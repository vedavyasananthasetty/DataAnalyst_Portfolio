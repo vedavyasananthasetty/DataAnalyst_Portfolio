{
 "cells": [
  {
   "cell_type": "code",
   "execution_count": 18,
   "id": "59ebd724-27ba-4910-bc4c-98c303070949",
   "metadata": {},
   "outputs": [],
   "source": [
    "# import libraries \n",
    "\n",
    "from bs4 import BeautifulSoup\n",
    "import requests\n",
    "import time\n",
    "import datetime\n",
    "import csv\n",
    "import smtplib"
   ]
  },
  {
   "cell_type": "code",
   "execution_count": 11,
   "id": "5be28f78-c192-4237-90a8-15e37ac832ca",
   "metadata": {},
   "outputs": [
    {
     "name": "stdout",
     "output_type": "stream",
     "text": [
      "\n",
      "        Albert Einstein\n",
      "       \n"
     ]
    }
   ],
   "source": [
    "# Connect to Website and pull in data\n",
    "\n",
    "URL = 'https://quotes.toscrape.com/'\n",
    "\n",
    "headers = {\"User-Agent\": \"Mozilla/5.0 (Windows NT 10.0; Win64; x64) AppleWebKit/537.36 (KHTML, like Gecko) Chrome/78.0.3904.108 Safari/537.36\", \"Accept-Encoding\":\"gzip, deflate\", \"Accept\":\"text/html,application/xhtml+xml,application/xml;q=0.9,*/*;q=0.8\", \"DNT\":\"1\",\"Connection\":\"close\", \"Upgrade-Insecure-Requests\":\"1\"}\n",
    "\n",
    "page = requests.get(URL, headers = headers)\n",
    "\n",
    "soup1 = BeautifulSoup(page.content, 'html.parser')\n",
    "\n",
    "soup2 = BeautifulSoup(soup1.prettify(), \"html.parser\")\n",
    "#we are pulling up the quote\n",
    "#print(soup2)\n",
    "span_element = soup2.find('span')\n",
    "\n",
    "span_text = span_element.text\n",
    "#print(span_text)\n",
    "\n",
    "#No we are trying to pull up the author name\n",
    "small_author = soup2.find('small', class_='author')\n",
    "\n",
    "author = small_author.text\n",
    "\n",
    "print(author)\n"
   ]
  },
  {
   "cell_type": "code",
   "execution_count": 12,
   "id": "ac765cdd-d3c7-4d9e-9138-8795e6cf1255",
   "metadata": {},
   "outputs": [],
   "source": [
    "#Now i wanna extract multiple quotes\n",
    "quote_containers = soup2.find_all('div', class_='quote')"
   ]
  },
  {
   "cell_type": "code",
   "execution_count": 14,
   "id": "bd5ea244-93ee-4d52-9992-82f6f4124e19",
   "metadata": {},
   "outputs": [],
   "source": [
    "quotes = []\n",
    "for container in quote_containers:\n",
    "    span_text = container.find('span').text if container.find('span') else 'No text found'\n",
    "    small_author = container.find('small', class_='author').text if container.find('small', class_='author') else 'No author found'\n",
    "    \n",
    "    quotes.append((span_text, small_author))"
   ]
  },
  {
   "cell_type": "code",
   "execution_count": 16,
   "id": "8e5bfc6f-e999-44f0-83fa-38604179afdb",
   "metadata": {},
   "outputs": [
    {
     "name": "stdout",
     "output_type": "stream",
     "text": [
      "Quote: \n",
      "       “The world as we have created it is a process of our thinking. It cannot be changed without changing our thinking.”\n",
      "      \n",
      "Author: \n",
      "        Albert Einstein\n",
      "       \n",
      "\n",
      "Quote: \n",
      "       “It is our choices, Harry, that show what we truly are, far more than our abilities.”\n",
      "      \n",
      "Author: \n",
      "        J.K. Rowling\n",
      "       \n",
      "\n",
      "Quote: \n",
      "       “There are only two ways to live your life. One is as though nothing is a miracle. The other is as though everything is a miracle.”\n",
      "      \n",
      "Author: \n",
      "        Albert Einstein\n",
      "       \n",
      "\n",
      "Quote: \n",
      "       “The person, be it gentleman or lady, who has not pleasure in a good novel, must be intolerably stupid.”\n",
      "      \n",
      "Author: \n",
      "        Jane Austen\n",
      "       \n",
      "\n",
      "Quote: \n",
      "       “Imperfection is beauty, madness is genius and it's better to be absolutely ridiculous than absolutely boring.”\n",
      "      \n",
      "Author: \n",
      "        Marilyn Monroe\n",
      "       \n",
      "\n",
      "Quote: \n",
      "       “Try not to become a man of success. Rather become a man of value.”\n",
      "      \n",
      "Author: \n",
      "        Albert Einstein\n",
      "       \n",
      "\n",
      "Quote: \n",
      "       “It is better to be hated for what you are than to be loved for what you are not.”\n",
      "      \n",
      "Author: \n",
      "        André Gide\n",
      "       \n",
      "\n",
      "Quote: \n",
      "       “I have not failed. I've just found 10,000 ways that won't work.”\n",
      "      \n",
      "Author: \n",
      "        Thomas A. Edison\n",
      "       \n",
      "\n",
      "Quote: \n",
      "       “A woman is like a tea bag; you never know how strong it is until it's in hot water.”\n",
      "      \n",
      "Author: \n",
      "        Eleanor Roosevelt\n",
      "       \n",
      "\n",
      "Quote: \n",
      "       “A day without sunshine is like, you know, night.”\n",
      "      \n",
      "Author: \n",
      "        Steve Martin\n",
      "       \n",
      "\n"
     ]
    }
   ],
   "source": [
    "#Viewing the extracted data\n",
    "for quote in quotes:\n",
    "    print(f\"Quote: {quote[0]}\\nAuthor: {quote[1]}\\n\")"
   ]
  },
  {
   "cell_type": "code",
   "execution_count": 20,
   "id": "df3133aa-c061-4a62-bb68-6ed4dd627fc3",
   "metadata": {},
   "outputs": [
    {
     "name": "stdout",
     "output_type": "stream",
     "text": [
      "Quotes have been saved to quotes.csv\n"
     ]
    }
   ],
   "source": [
    "csv_file = 'quotes.csv'\n",
    "with open(csv_file, mode='w', newline='', encoding='utf-8') as file:\n",
    "    writer = csv.writer(file)\n",
    "    writer.writerow(['Author', 'Quote'])\n",
    "    writer.writerows(quotes) \n",
    "\n",
    "print(f\"Quotes have been saved to {csv_file}\")"
   ]
  },
  {
   "cell_type": "code",
   "execution_count": null,
   "id": "1b0f9374-c193-465f-bf44-1425ea5f3a0a",
   "metadata": {},
   "outputs": [],
   "source": []
  },
  {
   "cell_type": "code",
   "execution_count": null,
   "id": "b9be24b1-71aa-4e6c-8aab-f1205df5b7ee",
   "metadata": {},
   "outputs": [],
   "source": []
  },
  {
   "cell_type": "code",
   "execution_count": null,
   "id": "bf64d0cf-e68f-4347-b927-7f686504c3b9",
   "metadata": {},
   "outputs": [],
   "source": []
  },
  {
   "cell_type": "code",
   "execution_count": 21,
   "id": "48655072-d009-4c5e-9376-7fc703acafe3",
   "metadata": {},
   "outputs": [
    {
     "name": "stdout",
     "output_type": "stream",
     "text": [
      "Quotes have been saved to quotes.csv\n"
     ]
    }
   ],
   "source": [
    "import requests\n",
    "from bs4 import BeautifulSoup\n",
    "import csv\n",
    "\n",
    "# Step 1: Fetch the webpage\n",
    "url = 'https://quotes.toscrape.com/'  # Replace with the URL of the website you want to scrape\n",
    "response = requests.get(url)\n",
    "\n",
    "# Step 2: Parse the webpage content\n",
    "soup = BeautifulSoup(response.content, 'html.parser')\n",
    "\n",
    "# Step 3: Find all quote containers\n",
    "# Assuming each quote is within a <div> with class 'quote' or similar\n",
    "quote_containers = soup.find_all('div', class_='quote')\n",
    "\n",
    "# Step 4: Extract text and author for each quote\n",
    "quotes = []\n",
    "\n",
    "for container in quote_containers:\n",
    "    span_text = container.find('span').text if container.find('span') else 'No text found'\n",
    "    small_author = container.find('small', class_='author').text if container.find('small', class_='author') else 'No author found'\n",
    "    \n",
    "    quotes.append((small_author, span_text))\n",
    "\n",
    "# Step 5: Save to CSV file\n",
    "csv_file = 'quotes.csv'\n",
    "with open(csv_file, mode='w', newline='', encoding='utf-8') as file:\n",
    "    writer = csv.writer(file)\n",
    "    writer.writerow(['Author', 'Quote'])  # Write the headers\n",
    "    writer.writerows(quotes)  # Write the quotes\n",
    "\n",
    "print(f\"Quotes have been saved to {csv_file}\")\n"
   ]
  },
  {
   "cell_type": "code",
   "execution_count": null,
   "id": "2727a40d-2251-4ea4-b5d4-743a1e9ba911",
   "metadata": {},
   "outputs": [],
   "source": []
  }
 ],
 "metadata": {
  "kernelspec": {
   "display_name": "Python 3 (ipykernel)",
   "language": "python",
   "name": "python3"
  },
  "language_info": {
   "codemirror_mode": {
    "name": "ipython",
    "version": 3
   },
   "file_extension": ".py",
   "mimetype": "text/x-python",
   "name": "python",
   "nbconvert_exporter": "python",
   "pygments_lexer": "ipython3",
   "version": "3.11.7"
  }
 },
 "nbformat": 4,
 "nbformat_minor": 5
}
